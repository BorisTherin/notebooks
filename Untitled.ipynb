{
 "cells": [
  {
   "cell_type": "markdown",
   "id": "52d11cba-e3af-484a-945a-3be39eb59e67",
   "metadata": {},
   "source": [
    "# test #3"
   ]
  },
  {
   "cell_type": "code",
   "execution_count": null,
   "id": "d2531e44-f6b7-4001-a3a0-be54fa52778c",
   "metadata": {},
   "outputs": [],
   "source": []
  }
 ],
 "metadata": {
  "kernelspec": {
   "display_name": "Deno",
   "language": "typescript",
   "name": "deno"
  },
  "language_info": {
   "file_extension": ".ts",
   "mimetype": "text/x.typescript",
   "name": "typescript",
   "nb_converter": "script",
   "pygments_lexer": "typescript",
   "version": "5.3.3"
  }
 },
 "nbformat": 4,
 "nbformat_minor": 5
}
